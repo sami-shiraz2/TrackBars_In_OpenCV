{
 "cells": [
  {
   "cell_type": "code",
   "execution_count": 2,
   "metadata": {},
   "outputs": [],
   "source": [
    "import cv2\n",
    "import numpy as np"
   ]
  },
  {
   "cell_type": "code",
   "execution_count": 3,
   "metadata": {},
   "outputs": [
    {
     "data": {
      "text/plain": [
       "-1"
      ]
     },
     "execution_count": 3,
     "metadata": {},
     "output_type": "execute_result"
    }
   ],
   "source": [
    "img = cv2.imread('lambo.png')\n",
    "cv2.imshow('Image', img)\n",
    "cv2.waitKey(0)"
   ]
  },
  {
   "cell_type": "code",
   "execution_count": 4,
   "metadata": {},
   "outputs": [],
   "source": [
    "def empty(a):\n",
    "    pass"
   ]
  },
  {
   "cell_type": "code",
   "execution_count": 5,
   "metadata": {},
   "outputs": [],
   "source": [
    "def stackImages(scale,imgArray):\n",
    "    rows = len(imgArray)\n",
    "    cols = len(imgArray[0])\n",
    "    rowsAvailable = isinstance(imgArray[0], list)\n",
    "    width = imgArray[0][0].shape[1]\n",
    "    height = imgArray[0][0].shape[0]\n",
    "    if rowsAvailable:\n",
    "        for x in range ( 0, rows):\n",
    "            for y in range(0, cols):\n",
    "                if imgArray[x][y].shape[:2] == imgArray[0][0].shape [:2]:\n",
    "                    imgArray[x][y] = cv2.resize(imgArray[x][y], (0, 0), None, scale, scale)\n",
    "                else:\n",
    "                    imgArray[x][y] = cv2.resize(imgArray[x][y], (imgArray[0][0].shape[1], imgArray[0][0].shape[0]), None, scale, scale)\n",
    "                if len(imgArray[x][y].shape) == 2: imgArray[x][y]= cv2.cvtColor( imgArray[x][y], cv2.COLOR_GRAY2BGR)\n",
    "        imageBlank = np.zeros((height, width, 3), np.uint8)\n",
    "        hor = [imageBlank]*rows\n",
    "        hor_con = [imageBlank]*rows\n",
    "        for x in range(0, rows):\n",
    "            hor[x] = np.hstack(imgArray[x])\n",
    "        ver = np.vstack(hor)\n",
    "    else:\n",
    "        for x in range(0, rows):\n",
    "            if imgArray[x].shape[:2] == imgArray[0].shape[:2]:\n",
    "                imgArray[x] = cv2.resize(imgArray[x], (0, 0), None, scale, scale)\n",
    "            else:\n",
    "                imgArray[x] = cv2.resize(imgArray[x], (imgArray[0].shape[1], imgArray[0].shape[0]), None,scale, scale)\n",
    "            if len(imgArray[x].shape) == 2: imgArray[x] = cv2.cvtColor(imgArray[x], cv2.COLOR_GRAY2BGR)\n",
    "        hor= np.hstack(imgArray)\n",
    "        ver = hor\n",
    "    return ver"
   ]
  },
  {
   "cell_type": "code",
   "execution_count": 6,
   "metadata": {},
   "outputs": [],
   "source": [
    "cv2.namedWindow('TrackBars')\n",
    "cv2.resizeWindow('TrackBars', 640, 280)\n",
    "cv2.createTrackbar('Hue_min', 'TrackBars', 0, 179, empty)\n",
    "cv2.createTrackbar('Hue_max', 'TrackBars', 179, 179, empty)\n",
    "cv2.createTrackbar('Sat_min', 'TrackBars', 0, 255, empty)\n",
    "cv2.createTrackbar('Sat_max', 'TrackBars', 255, 255, empty)\n",
    "cv2.createTrackbar('Val_min', 'TrackBars', 0, 255, empty)\n",
    "cv2.createTrackbar('Val_max', 'TrackBars', 255, 255, empty)\n",
    "\n",
    "while True:\n",
    "    img = cv2.imread('lambo.png')\n",
    "    Img_HSV = cv2.cvtColor(img, cv2.COLOR_BGR2HSV)\n",
    "    Hue_min = cv2.getTrackbarPos('Hue_min', 'TrackBars')\n",
    "    Hue_max = cv2.getTrackbarPos('Hue_max', 'TrackBars')\n",
    "    Sat_min = cv2.getTrackbarPos('Sat_min', 'TrackBars')\n",
    "    Sat_max = cv2.getTrackbarPos('Sat_max', 'TrackBars')\n",
    "    Val_min = cv2.getTrackbarPos('Val_min', 'TrackBars')\n",
    "    Val_max = cv2.getTrackbarPos('Val_max', 'TrackBars')\n",
    "    lower_case = np.array([Hue_min, Sat_min, Val_min])\n",
    "    upper_case = np.array([Hue_max, Sat_max, Val_max])\n",
    "    mask = cv2.inRange(Img_HSV, lower_case, upper_case)\n",
    "    img_out = cv2.bitwise_and(img, Img_HSV, mask=mask)\n",
    "    \n",
    "    stack = stackImages(0.5, [[img, Img_HSV], [mask, img_out]])\n",
    "    cv2.imshow('StackedImage', stack)\n",
    "    if cv2.waitKey(1) == ord('q'):\n",
    "        break"
   ]
  },
  {
   "cell_type": "code",
   "execution_count": null,
   "metadata": {},
   "outputs": [],
   "source": []
  }
 ],
 "metadata": {
  "kernelspec": {
   "display_name": "Python 3",
   "language": "python",
   "name": "python3"
  },
  "language_info": {
   "codemirror_mode": {
    "name": "ipython",
    "version": 3
   },
   "file_extension": ".py",
   "mimetype": "text/x-python",
   "name": "python",
   "nbconvert_exporter": "python",
   "pygments_lexer": "ipython3",
   "version": "3.7.3"
  }
 },
 "nbformat": 4,
 "nbformat_minor": 2
}
